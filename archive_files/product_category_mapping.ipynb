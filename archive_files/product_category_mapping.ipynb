{
 "cells": [
  {
   "cell_type": "code",
   "execution_count": 1,
   "metadata": {},
   "outputs": [],
   "source": [
    "# ! pip install pandas \n",
    "# ! pip install fuzzywuzzy"
   ]
  },
  {
   "cell_type": "code",
   "execution_count": 7,
   "metadata": {},
   "outputs": [],
   "source": [
    "import pandas as pd\n",
    "import re\n",
    "from fuzzywuzzy import fuzz"
   ]
  },
  {
   "cell_type": "code",
   "execution_count": 2,
   "metadata": {},
   "outputs": [],
   "source": [
    "dairy = pd.read_csv('raw_data/zehrs/dairy_and_eggs.csv')"
   ]
  },
  {
   "cell_type": "code",
   "execution_count": 3,
   "metadata": {},
   "outputs": [
    {
     "data": {
      "text/html": [
       "<div>\n",
       "<style scoped>\n",
       "    .dataframe tbody tr th:only-of-type {\n",
       "        vertical-align: middle;\n",
       "    }\n",
       "\n",
       "    .dataframe tbody tr th {\n",
       "        vertical-align: top;\n",
       "    }\n",
       "\n",
       "    .dataframe thead th {\n",
       "        text-align: right;\n",
       "    }\n",
       "</style>\n",
       "<table border=\"1\" class=\"dataframe\">\n",
       "  <thead>\n",
       "    <tr style=\"text-align: right;\">\n",
       "      <th></th>\n",
       "      <th>category</th>\n",
       "      <th>brand</th>\n",
       "      <th>product</th>\n",
       "      <th>product_name</th>\n",
       "      <th>price</th>\n",
       "      <th>per_unit_price</th>\n",
       "    </tr>\n",
       "  </thead>\n",
       "  <tbody>\n",
       "    <tr>\n",
       "      <th>0</th>\n",
       "      <td>dairy_and_eggs</td>\n",
       "      <td>No Name</td>\n",
       "      <td>Salted Butter</td>\n",
       "      <td>No NameSalted Butter454 g</td>\n",
       "      <td>$6.19ea</td>\n",
       "      <td>$1.36/ 100g</td>\n",
       "    </tr>\n",
       "    <tr>\n",
       "      <th>1</th>\n",
       "      <td>dairy_and_eggs</td>\n",
       "      <td>Neilson</td>\n",
       "      <td>Half and Half Cream</td>\n",
       "      <td>NeilsonHalf and Half Cream1 l</td>\n",
       "      <td>$4.79ea</td>\n",
       "      <td>$0.48/ 100ml</td>\n",
       "    </tr>\n",
       "    <tr>\n",
       "      <th>2</th>\n",
       "      <td>dairy_and_eggs</td>\n",
       "      <td>Neilson</td>\n",
       "      <td>Partly Skimmed Milk 1% MF</td>\n",
       "      <td>NeilsonPartly Skimmed Milk 1% MF4 l</td>\n",
       "      <td>$5.69ea</td>\n",
       "      <td>$0.14/ 100ml</td>\n",
       "    </tr>\n",
       "    <tr>\n",
       "      <th>3</th>\n",
       "      <td>dairy_and_eggs</td>\n",
       "      <td>No Name</td>\n",
       "      <td>Unsalted Butter</td>\n",
       "      <td>No NameUnsalted Butter454 g</td>\n",
       "      <td>$6.19ea</td>\n",
       "      <td>$1.36/ 100g</td>\n",
       "    </tr>\n",
       "    <tr>\n",
       "      <th>4</th>\n",
       "      <td>dairy_and_eggs</td>\n",
       "      <td>Neilson</td>\n",
       "      <td>Homogenized Milk 3.25%</td>\n",
       "      <td>NeilsonHomogenized Milk 3.25%4 l</td>\n",
       "      <td>$6.69ea</td>\n",
       "      <td>$0.17/ 100ml</td>\n",
       "    </tr>\n",
       "  </tbody>\n",
       "</table>\n",
       "</div>"
      ],
      "text/plain": [
       "         category    brand                    product  \\\n",
       "0  dairy_and_eggs  No Name              Salted Butter   \n",
       "1  dairy_and_eggs  Neilson        Half and Half Cream   \n",
       "2  dairy_and_eggs  Neilson  Partly Skimmed Milk 1% MF   \n",
       "3  dairy_and_eggs  No Name            Unsalted Butter   \n",
       "4  dairy_and_eggs  Neilson     Homogenized Milk 3.25%   \n",
       "\n",
       "                          product_name    price per_unit_price  \n",
       "0            No NameSalted Butter454 g  $6.19ea    $1.36/ 100g  \n",
       "1        NeilsonHalf and Half Cream1 l  $4.79ea   $0.48/ 100ml  \n",
       "2  NeilsonPartly Skimmed Milk 1% MF4 l  $5.69ea   $0.14/ 100ml  \n",
       "3          No NameUnsalted Butter454 g  $6.19ea    $1.36/ 100g  \n",
       "4     NeilsonHomogenized Milk 3.25%4 l  $6.69ea   $0.17/ 100ml  "
      ]
     },
     "execution_count": 3,
     "metadata": {},
     "output_type": "execute_result"
    }
   ],
   "source": [
    "dairy.head()"
   ]
  },
  {
   "cell_type": "code",
   "execution_count": null,
   "metadata": {},
   "outputs": [],
   "source": []
  },
  {
   "cell_type": "code",
   "execution_count": 4,
   "metadata": {},
   "outputs": [
    {
     "data": {
      "text/plain": [
       "24"
      ]
     },
     "execution_count": 4,
     "metadata": {},
     "output_type": "execute_result"
    }
   ],
   "source": [
    "# lets say a users search term is \n",
    "search_term = '2% Milk'\n",
    "\n",
    "# and we have a product \n",
    "product = 'Neilson Chocolate Partly Skimmed Milk 2% MF4 l'\n",
    "# product= 'Gray RidgePremium Large Eggs18 eggs'\n",
    "\n",
    "# similarity: \n",
    "sim = fuzz.token_sort_ratio(product.lower(), search_term.lower())\n",
    "sim"
   ]
  },
  {
   "cell_type": "markdown",
   "metadata": {},
   "source": [
    "^ kinda low "
   ]
  },
  {
   "cell_type": "code",
   "execution_count": 225,
   "metadata": {},
   "outputs": [
    {
     "data": {
      "text/plain": [
       "100"
      ]
     },
     "execution_count": 225,
     "metadata": {},
     "output_type": "execute_result"
    }
   ],
   "source": [
    "# compared to if the search term is \n",
    "search_term = 'Milk 2%'\n",
    "\n",
    "# and we have a product \n",
    "product = 'NeilsonPartly Skimmed Milk 2% MF4 l'\n",
    "\n",
    "# similarity: \n",
    "sim = fuzz.partial_ratio(product.lower(), search_term.lower())\n",
    "sim"
   ]
  },
  {
   "cell_type": "markdown",
   "metadata": {},
   "source": [
    "^ this is good, we want this as high as possible. but people probably wouldnt default to this, they would do the one before "
   ]
  },
  {
   "cell_type": "code",
   "execution_count": 226,
   "metadata": {},
   "outputs": [
    {
     "data": {
      "text/plain": [
       "100.0"
      ]
     },
     "execution_count": 226,
     "metadata": {},
     "output_type": "execute_result"
    }
   ],
   "source": [
    "# now what if we break up search terms into each word\n",
    "search_term = '2% Milk'\n",
    "product = 'NeilsonPartly Skimmed Milk 2% MF4 l'\n",
    "\n",
    "total_ratio = 0\n",
    "for term in search_term.split():\n",
    "    sim = fuzz.partial_ratio(product.lower(), term.lower())\n",
    "    total_ratio += sim\n",
    "\n",
    "total_ratio / len(search_term.split()) # essentially the avg ratio value "
   ]
  },
  {
   "cell_type": "markdown",
   "metadata": {},
   "source": [
    "### Load all data into one df"
   ]
  },
  {
   "cell_type": "code",
   "execution_count": 270,
   "metadata": {},
   "outputs": [
    {
     "data": {
      "text/html": [
       "<div>\n",
       "<style scoped>\n",
       "    .dataframe tbody tr th:only-of-type {\n",
       "        vertical-align: middle;\n",
       "    }\n",
       "\n",
       "    .dataframe tbody tr th {\n",
       "        vertical-align: top;\n",
       "    }\n",
       "\n",
       "    .dataframe thead th {\n",
       "        text-align: right;\n",
       "    }\n",
       "</style>\n",
       "<table border=\"1\" class=\"dataframe\">\n",
       "  <thead>\n",
       "    <tr style=\"text-align: right;\">\n",
       "      <th></th>\n",
       "      <th>category</th>\n",
       "      <th>brand</th>\n",
       "      <th>product</th>\n",
       "      <th>product_name</th>\n",
       "      <th>price</th>\n",
       "      <th>per_unit_price</th>\n",
       "      <th>store</th>\n",
       "    </tr>\n",
       "  </thead>\n",
       "  <tbody>\n",
       "    <tr>\n",
       "      <th>0</th>\n",
       "      <td>dairy_and_eggs</td>\n",
       "      <td>No Name</td>\n",
       "      <td>Salted Butter</td>\n",
       "      <td>No NameSalted Butter454 g</td>\n",
       "      <td>$6.19ea</td>\n",
       "      <td>$1.36/ 100g</td>\n",
       "      <td>zehrs</td>\n",
       "    </tr>\n",
       "    <tr>\n",
       "      <th>1</th>\n",
       "      <td>dairy_and_eggs</td>\n",
       "      <td>Neilson</td>\n",
       "      <td>Half and Half Cream</td>\n",
       "      <td>NeilsonHalf and Half Cream1 l</td>\n",
       "      <td>$4.79ea</td>\n",
       "      <td>$0.48/ 100ml</td>\n",
       "      <td>zehrs</td>\n",
       "    </tr>\n",
       "    <tr>\n",
       "      <th>2</th>\n",
       "      <td>dairy_and_eggs</td>\n",
       "      <td>Neilson</td>\n",
       "      <td>Partly Skimmed Milk 1% MF</td>\n",
       "      <td>NeilsonPartly Skimmed Milk 1% MF4 l</td>\n",
       "      <td>$5.69ea</td>\n",
       "      <td>$0.14/ 100ml</td>\n",
       "      <td>zehrs</td>\n",
       "    </tr>\n",
       "    <tr>\n",
       "      <th>3</th>\n",
       "      <td>dairy_and_eggs</td>\n",
       "      <td>No Name</td>\n",
       "      <td>Unsalted Butter</td>\n",
       "      <td>No NameUnsalted Butter454 g</td>\n",
       "      <td>$6.19ea</td>\n",
       "      <td>$1.36/ 100g</td>\n",
       "      <td>zehrs</td>\n",
       "    </tr>\n",
       "    <tr>\n",
       "      <th>4</th>\n",
       "      <td>dairy_and_eggs</td>\n",
       "      <td>Neilson</td>\n",
       "      <td>Homogenized Milk 3.25%</td>\n",
       "      <td>NeilsonHomogenized Milk 3.25%4 l</td>\n",
       "      <td>$6.69ea</td>\n",
       "      <td>$0.17/ 100ml</td>\n",
       "      <td>zehrs</td>\n",
       "    </tr>\n",
       "  </tbody>\n",
       "</table>\n",
       "</div>"
      ],
      "text/plain": [
       "         category    brand                    product  \\\n",
       "0  dairy_and_eggs  No Name              Salted Butter   \n",
       "1  dairy_and_eggs  Neilson        Half and Half Cream   \n",
       "2  dairy_and_eggs  Neilson  Partly Skimmed Milk 1% MF   \n",
       "3  dairy_and_eggs  No Name            Unsalted Butter   \n",
       "4  dairy_and_eggs  Neilson     Homogenized Milk 3.25%   \n",
       "\n",
       "                          product_name    price per_unit_price  store  \n",
       "0            No NameSalted Butter454 g  $6.19ea    $1.36/ 100g  zehrs  \n",
       "1        NeilsonHalf and Half Cream1 l  $4.79ea   $0.48/ 100ml  zehrs  \n",
       "2  NeilsonPartly Skimmed Milk 1% MF4 l  $5.69ea   $0.14/ 100ml  zehrs  \n",
       "3          No NameUnsalted Butter454 g  $6.19ea    $1.36/ 100g  zehrs  \n",
       "4     NeilsonHomogenized Milk 3.25%4 l  $6.69ea   $0.17/ 100ml  zehrs  "
      ]
     },
     "execution_count": 270,
     "metadata": {},
     "output_type": "execute_result"
    }
   ],
   "source": [
    "dairy = pd.read_csv('raw_data/zehrs/dairy_and_eggs.csv')\n",
    "bakery = pd.read_csv('raw_data/zehrs/bakery.csv')\n",
    "meat = pd.read_csv('raw_data/zehrs/meat.csv')\n",
    "produce = pd.read_csv('raw_data/zehrs/produce.csv')\n",
    "seafood = pd.read_csv('raw_data/zehrs/seafood.csv')\n",
    "\n",
    "df = pd.DataFrame()\n",
    "df = df.append(dairy)\n",
    "df = df.append(bakery)\n",
    "df = df.append(meat)\n",
    "df = df.append(produce)\n",
    "df = df.append(seafood)\n",
    "\n",
    "df['store'] = 'zehrs'\n",
    "\n",
    "\n",
    "df.head()"
   ]
  },
  {
   "cell_type": "markdown",
   "metadata": {},
   "source": [
    "## Data Cleaning"
   ]
  },
  {
   "cell_type": "code",
   "execution_count": 79,
   "metadata": {},
   "outputs": [
    {
     "data": {
      "text/plain": [
       "'12.10'"
      ]
     },
     "execution_count": 79,
     "metadata": {},
     "output_type": "execute_result"
    }
   ],
   "source": [
    "re.sub(\"(/[0-9] +.*$)\", '', '12.10/1 kg')"
   ]
  },
  {
   "cell_type": "code",
   "execution_count": null,
   "metadata": {},
   "outputs": [],
   "source": [
    "# for volume - convert to ml \n",
    "# for wt - convert to g "
   ]
  },
  {
   "cell_type": "code",
   "execution_count": 236,
   "metadata": {},
   "outputs": [
    {
     "data": {
      "text/plain": [
       "[' 100g', ' 100ml', ' 1ea', ' 1kg']"
      ]
     },
     "execution_count": 236,
     "metadata": {},
     "output_type": "execute_result"
    }
   ],
   "source": [
    "units = []\n",
    "for index, row in df.iterrows():\n",
    "    per_unit_price = row.per_unit_price\n",
    "    try: \n",
    "        unit = per_unit_price.split('/')[1]\n",
    "        if unit not in units: \n",
    "            units.append(unit)\n",
    "    except: continue # print(per_unit_price)\n",
    "\n",
    "units[:10]"
   ]
  },
  {
   "cell_type": "code",
   "execution_count": 256,
   "metadata": {},
   "outputs": [
    {
     "data": {
      "text/plain": [
       "'1.25'"
      ]
     },
     "execution_count": 256,
     "metadata": {},
     "output_type": "execute_result"
    }
   ],
   "source": [
    "'1.25/100g'.split('/')[0].replace('$', '')"
   ]
  },
  {
   "cell_type": "code",
   "execution_count": 260,
   "metadata": {},
   "outputs": [
    {
     "data": {
      "text/plain": [
       "1000.0"
      ]
     },
     "execution_count": 260,
     "metadata": {},
     "output_type": "execute_result"
    }
   ],
   "source": [
    "float('1kg'.split('kg')[0])*1000"
   ]
  },
  {
   "cell_type": "code",
   "execution_count": 263,
   "metadata": {},
   "outputs": [
    {
     "data": {
      "text/html": [
       "<div>\n",
       "<style scoped>\n",
       "    .dataframe tbody tr th:only-of-type {\n",
       "        vertical-align: middle;\n",
       "    }\n",
       "\n",
       "    .dataframe tbody tr th {\n",
       "        vertical-align: top;\n",
       "    }\n",
       "\n",
       "    .dataframe thead th {\n",
       "        text-align: right;\n",
       "    }\n",
       "</style>\n",
       "<table border=\"1\" class=\"dataframe\">\n",
       "  <thead>\n",
       "    <tr style=\"text-align: right;\">\n",
       "      <th></th>\n",
       "      <th>category</th>\n",
       "      <th>brand</th>\n",
       "      <th>product</th>\n",
       "      <th>product_name</th>\n",
       "      <th>price</th>\n",
       "      <th>per_unit_price</th>\n",
       "      <th>store</th>\n",
       "      <th>per_unit_price2</th>\n",
       "      <th>unit_type</th>\n",
       "    </tr>\n",
       "  </thead>\n",
       "  <tbody>\n",
       "    <tr>\n",
       "      <th>0</th>\n",
       "      <td>dairy_and_eggs</td>\n",
       "      <td>No Name</td>\n",
       "      <td>Salted Butter</td>\n",
       "      <td>No NameSalted Butter454 g</td>\n",
       "      <td>$6.19ea</td>\n",
       "      <td>$1.36/ 100g</td>\n",
       "      <td>zehrs</td>\n",
       "      <td>0.0136</td>\n",
       "      <td>g</td>\n",
       "    </tr>\n",
       "    <tr>\n",
       "      <th>1</th>\n",
       "      <td>dairy_and_eggs</td>\n",
       "      <td>Neilson</td>\n",
       "      <td>Half and Half Cream</td>\n",
       "      <td>NeilsonHalf and Half Cream1 l</td>\n",
       "      <td>$4.79ea</td>\n",
       "      <td>$0.48/ 100ml</td>\n",
       "      <td>zehrs</td>\n",
       "      <td>0.0048</td>\n",
       "      <td>ml</td>\n",
       "    </tr>\n",
       "    <tr>\n",
       "      <th>2</th>\n",
       "      <td>dairy_and_eggs</td>\n",
       "      <td>Neilson</td>\n",
       "      <td>Partly Skimmed Milk 1% MF</td>\n",
       "      <td>NeilsonPartly Skimmed Milk 1% MF4 l</td>\n",
       "      <td>$5.69ea</td>\n",
       "      <td>$0.14/ 100ml</td>\n",
       "      <td>zehrs</td>\n",
       "      <td>0.0014</td>\n",
       "      <td>ml</td>\n",
       "    </tr>\n",
       "    <tr>\n",
       "      <th>3</th>\n",
       "      <td>dairy_and_eggs</td>\n",
       "      <td>No Name</td>\n",
       "      <td>Unsalted Butter</td>\n",
       "      <td>No NameUnsalted Butter454 g</td>\n",
       "      <td>$6.19ea</td>\n",
       "      <td>$1.36/ 100g</td>\n",
       "      <td>zehrs</td>\n",
       "      <td>0.0136</td>\n",
       "      <td>g</td>\n",
       "    </tr>\n",
       "    <tr>\n",
       "      <th>4</th>\n",
       "      <td>dairy_and_eggs</td>\n",
       "      <td>Neilson</td>\n",
       "      <td>Homogenized Milk 3.25%</td>\n",
       "      <td>NeilsonHomogenized Milk 3.25%4 l</td>\n",
       "      <td>$6.69ea</td>\n",
       "      <td>$0.17/ 100ml</td>\n",
       "      <td>zehrs</td>\n",
       "      <td>0.0017</td>\n",
       "      <td>ml</td>\n",
       "    </tr>\n",
       "  </tbody>\n",
       "</table>\n",
       "</div>"
      ],
      "text/plain": [
       "         category    brand                    product  \\\n",
       "0  dairy_and_eggs  No Name              Salted Butter   \n",
       "1  dairy_and_eggs  Neilson        Half and Half Cream   \n",
       "2  dairy_and_eggs  Neilson  Partly Skimmed Milk 1% MF   \n",
       "3  dairy_and_eggs  No Name            Unsalted Butter   \n",
       "4  dairy_and_eggs  Neilson     Homogenized Milk 3.25%   \n",
       "\n",
       "                          product_name    price per_unit_price  store  \\\n",
       "0            No NameSalted Butter454 g  $6.19ea    $1.36/ 100g  zehrs   \n",
       "1        NeilsonHalf and Half Cream1 l  $4.79ea   $0.48/ 100ml  zehrs   \n",
       "2  NeilsonPartly Skimmed Milk 1% MF4 l  $5.69ea   $0.14/ 100ml  zehrs   \n",
       "3          No NameUnsalted Butter454 g  $6.19ea    $1.36/ 100g  zehrs   \n",
       "4     NeilsonHomogenized Milk 3.25%4 l  $6.69ea   $0.17/ 100ml  zehrs   \n",
       "\n",
       "  per_unit_price2 unit_type  \n",
       "0          0.0136         g  \n",
       "1          0.0048        ml  \n",
       "2          0.0014        ml  \n",
       "3          0.0136         g  \n",
       "4          0.0017        ml  "
      ]
     },
     "execution_count": 263,
     "metadata": {},
     "output_type": "execute_result"
    }
   ],
   "source": [
    "per_unit_prices = []\n",
    "unit_types = []\n",
    "for index, row in df.iterrows():\n",
    "    per_unit_price = row.per_unit_price\n",
    "    if not isinstance(per_unit_price, float):  # not nan\n",
    "        unit = per_unit_price.split('/')[1]\n",
    "        price = float(per_unit_price.split('/')[0].replace('$', '').replace(',', ''))\n",
    "        unit_type = ''\n",
    "        if 'kg' in unit: \n",
    "            gram = float(unit.split('kg')[0])*1000 # 1000 g in kg\n",
    "            pup = price / gram\n",
    "            unit_type = 'g'\n",
    "        elif 'g' in unit:\n",
    "            gram = float(unit.split('g')[0])\n",
    "            pup = price / gram\n",
    "            unit_type = 'g'\n",
    "        elif 'ml' in unit:\n",
    "            ml = float(unit.split('ml')[0])\n",
    "            pup = price / ml\n",
    "            unit_type = 'ml'\n",
    "    else: \n",
    "        pup = row.price\n",
    "        unit_type = ''\n",
    "    \n",
    "    per_unit_prices.append(pup)\n",
    "    unit_types.append(unit_type)\n",
    "    \n",
    "df['per_unit_price2'] = per_unit_prices\n",
    "df['unit_type'] = unit_types\n",
    "df.head()"
   ]
  },
  {
   "cell_type": "code",
   "execution_count": null,
   "metadata": {},
   "outputs": [],
   "source": []
  },
  {
   "cell_type": "code",
   "execution_count": 272,
   "metadata": {},
   "outputs": [],
   "source": [
    "# loblaw cleaning \n",
    "\n",
    "import re \n",
    "\n",
    "prices = []\n",
    "per_unit_prices = []\n",
    "unit_types = []\n",
    "\n",
    "for index, row in df.iterrows():\n",
    "    s = row.price\n",
    "    s = re.findall('(?:[\\£\\$\\€]{1}[,\\d]+.?\\d*)',s)[-1]\n",
    "    s = s.replace('$', '') # remove $\n",
    "    \n",
    "    per_unit_price = row.per_unit_price\n",
    "    if not isinstance(per_unit_price, float):  # not nan\n",
    "        unit = per_unit_price.split('/')[1]\n",
    "        price = float(per_unit_price.split('/')[0].replace('$', '').replace(',', ''))\n",
    "        unit_type = ''\n",
    "        if 'kg' in unit: \n",
    "            gram = float(unit.split('kg')[0])*1000 # 1000 g in kg\n",
    "            pup = price / gram\n",
    "            unit_type = 'g'\n",
    "        elif 'g' in unit:\n",
    "            gram = float(unit.split('g')[0])\n",
    "            pup = price / gram\n",
    "            unit_type = 'g'\n",
    "        elif 'ml' in unit:\n",
    "            ml = float(unit.split('ml')[0])\n",
    "            pup = price / ml\n",
    "            unit_type = 'ml'\n",
    "    else: \n",
    "        pup = row.price\n",
    "        unit_type = ''\n",
    "    \n",
    "    prices.append(s)\n",
    "    per_unit_prices.append(pup)\n",
    "    unit_types.append(unit_type)\n",
    "    \n",
    "df['per_unit_price2'] = per_unit_prices\n",
    "df['unit_type'] = unit_types\n",
    "df['price2'] = prices\n",
    "    \n"
   ]
  },
  {
   "cell_type": "code",
   "execution_count": 273,
   "metadata": {},
   "outputs": [
    {
     "data": {
      "text/html": [
       "<div>\n",
       "<style scoped>\n",
       "    .dataframe tbody tr th:only-of-type {\n",
       "        vertical-align: middle;\n",
       "    }\n",
       "\n",
       "    .dataframe tbody tr th {\n",
       "        vertical-align: top;\n",
       "    }\n",
       "\n",
       "    .dataframe thead th {\n",
       "        text-align: right;\n",
       "    }\n",
       "</style>\n",
       "<table border=\"1\" class=\"dataframe\">\n",
       "  <thead>\n",
       "    <tr style=\"text-align: right;\">\n",
       "      <th></th>\n",
       "      <th>category</th>\n",
       "      <th>brand</th>\n",
       "      <th>product</th>\n",
       "      <th>product_name</th>\n",
       "      <th>price</th>\n",
       "      <th>per_unit_price</th>\n",
       "      <th>store</th>\n",
       "      <th>per_unit_price2</th>\n",
       "      <th>unit_type</th>\n",
       "      <th>price2</th>\n",
       "    </tr>\n",
       "  </thead>\n",
       "  <tbody>\n",
       "    <tr>\n",
       "      <th>0</th>\n",
       "      <td>dairy_and_eggs</td>\n",
       "      <td>No Name</td>\n",
       "      <td>Salted Butter</td>\n",
       "      <td>No NameSalted Butter454 g</td>\n",
       "      <td>$6.19ea</td>\n",
       "      <td>$1.36/ 100g</td>\n",
       "      <td>zehrs</td>\n",
       "      <td>0.0136</td>\n",
       "      <td>g</td>\n",
       "      <td>6.19</td>\n",
       "    </tr>\n",
       "    <tr>\n",
       "      <th>1</th>\n",
       "      <td>dairy_and_eggs</td>\n",
       "      <td>Neilson</td>\n",
       "      <td>Half and Half Cream</td>\n",
       "      <td>NeilsonHalf and Half Cream1 l</td>\n",
       "      <td>$4.79ea</td>\n",
       "      <td>$0.48/ 100ml</td>\n",
       "      <td>zehrs</td>\n",
       "      <td>0.0048</td>\n",
       "      <td>ml</td>\n",
       "      <td>4.79</td>\n",
       "    </tr>\n",
       "    <tr>\n",
       "      <th>2</th>\n",
       "      <td>dairy_and_eggs</td>\n",
       "      <td>Neilson</td>\n",
       "      <td>Partly Skimmed Milk 1% MF</td>\n",
       "      <td>NeilsonPartly Skimmed Milk 1% MF4 l</td>\n",
       "      <td>$5.69ea</td>\n",
       "      <td>$0.14/ 100ml</td>\n",
       "      <td>zehrs</td>\n",
       "      <td>0.0014</td>\n",
       "      <td>ml</td>\n",
       "      <td>5.69</td>\n",
       "    </tr>\n",
       "    <tr>\n",
       "      <th>3</th>\n",
       "      <td>dairy_and_eggs</td>\n",
       "      <td>No Name</td>\n",
       "      <td>Unsalted Butter</td>\n",
       "      <td>No NameUnsalted Butter454 g</td>\n",
       "      <td>$6.19ea</td>\n",
       "      <td>$1.36/ 100g</td>\n",
       "      <td>zehrs</td>\n",
       "      <td>0.0136</td>\n",
       "      <td>g</td>\n",
       "      <td>6.19</td>\n",
       "    </tr>\n",
       "    <tr>\n",
       "      <th>4</th>\n",
       "      <td>dairy_and_eggs</td>\n",
       "      <td>Neilson</td>\n",
       "      <td>Homogenized Milk 3.25%</td>\n",
       "      <td>NeilsonHomogenized Milk 3.25%4 l</td>\n",
       "      <td>$6.69ea</td>\n",
       "      <td>$0.17/ 100ml</td>\n",
       "      <td>zehrs</td>\n",
       "      <td>0.0017</td>\n",
       "      <td>ml</td>\n",
       "      <td>6.69</td>\n",
       "    </tr>\n",
       "  </tbody>\n",
       "</table>\n",
       "</div>"
      ],
      "text/plain": [
       "         category    brand                    product  \\\n",
       "0  dairy_and_eggs  No Name              Salted Butter   \n",
       "1  dairy_and_eggs  Neilson        Half and Half Cream   \n",
       "2  dairy_and_eggs  Neilson  Partly Skimmed Milk 1% MF   \n",
       "3  dairy_and_eggs  No Name            Unsalted Butter   \n",
       "4  dairy_and_eggs  Neilson     Homogenized Milk 3.25%   \n",
       "\n",
       "                          product_name    price per_unit_price  store  \\\n",
       "0            No NameSalted Butter454 g  $6.19ea    $1.36/ 100g  zehrs   \n",
       "1        NeilsonHalf and Half Cream1 l  $4.79ea   $0.48/ 100ml  zehrs   \n",
       "2  NeilsonPartly Skimmed Milk 1% MF4 l  $5.69ea   $0.14/ 100ml  zehrs   \n",
       "3          No NameUnsalted Butter454 g  $6.19ea    $1.36/ 100g  zehrs   \n",
       "4     NeilsonHomogenized Milk 3.25%4 l  $6.69ea   $0.17/ 100ml  zehrs   \n",
       "\n",
       "  per_unit_price2 unit_type price2  \n",
       "0          0.0136         g   6.19  \n",
       "1          0.0048        ml   4.79  \n",
       "2          0.0014        ml   5.69  \n",
       "3          0.0136         g   6.19  \n",
       "4          0.0017        ml   6.69  "
      ]
     },
     "execution_count": 273,
     "metadata": {},
     "output_type": "execute_result"
    }
   ],
   "source": [
    "df.head()"
   ]
  },
  {
   "cell_type": "markdown",
   "metadata": {},
   "source": [
    "# flipp data"
   ]
  },
  {
   "cell_type": "code",
   "execution_count": 5,
   "metadata": {},
   "outputs": [
    {
     "data": {
      "text/html": [
       "<div>\n",
       "<style scoped>\n",
       "    .dataframe tbody tr th:only-of-type {\n",
       "        vertical-align: middle;\n",
       "    }\n",
       "\n",
       "    .dataframe tbody tr th {\n",
       "        vertical-align: top;\n",
       "    }\n",
       "\n",
       "    .dataframe thead th {\n",
       "        text-align: right;\n",
       "    }\n",
       "</style>\n",
       "<table border=\"1\" class=\"dataframe\">\n",
       "  <thead>\n",
       "    <tr style=\"text-align: right;\">\n",
       "      <th></th>\n",
       "      <th>product_name</th>\n",
       "      <th>price</th>\n",
       "      <th>store</th>\n",
       "    </tr>\n",
       "  </thead>\n",
       "  <tbody>\n",
       "    <tr>\n",
       "      <th>0</th>\n",
       "      <td>Compliments Bathroom Tissue 12=24 rolls</td>\n",
       "      <td>$4.99 with Scene+ Card</td>\n",
       "      <td>freshco</td>\n",
       "    </tr>\n",
       "    <tr>\n",
       "      <th>1</th>\n",
       "      <td>Philadelphia Cream Cheese 227-250 g</td>\n",
       "      <td>$3.49 with Scene+ Card</td>\n",
       "      <td>freshco</td>\n",
       "    </tr>\n",
       "    <tr>\n",
       "      <th>2</th>\n",
       "      <td>Compliments Frozen Fruit 600 g</td>\n",
       "      <td>$3.99 with Scene+ Card</td>\n",
       "      <td>freshco</td>\n",
       "    </tr>\n",
       "    <tr>\n",
       "      <th>3</th>\n",
       "      <td>Best Buy Frozen Vegetables 2 kg</td>\n",
       "      <td>$4.49 with Scene+ Card</td>\n",
       "      <td>freshco</td>\n",
       "    </tr>\n",
       "    <tr>\n",
       "      <th>4</th>\n",
       "      <td>RS Premium Natural Almonds 300 g Product of USA</td>\n",
       "      <td>$2.99 with Scene+ Card</td>\n",
       "      <td>freshco</td>\n",
       "    </tr>\n",
       "  </tbody>\n",
       "</table>\n",
       "</div>"
      ],
      "text/plain": [
       "                                      product_name                   price  \\\n",
       "0          Compliments Bathroom Tissue 12=24 rolls  $4.99 with Scene+ Card   \n",
       "1              Philadelphia Cream Cheese 227-250 g  $3.49 with Scene+ Card   \n",
       "2                   Compliments Frozen Fruit 600 g  $3.99 with Scene+ Card   \n",
       "3                  Best Buy Frozen Vegetables 2 kg  $4.49 with Scene+ Card   \n",
       "4  RS Premium Natural Almonds 300 g Product of USA  $2.99 with Scene+ Card   \n",
       "\n",
       "     store  \n",
       "0  freshco  \n",
       "1  freshco  \n",
       "2  freshco  \n",
       "3  freshco  \n",
       "4  freshco  "
      ]
     },
     "execution_count": 5,
     "metadata": {},
     "output_type": "execute_result"
    }
   ],
   "source": [
    "freshco = pd.read_csv('raw_data/freshco/flyer_deals.csv')\n",
    "freshco['store'] = 'freshco'\n",
    "\n",
    "walmart = pd.read_csv('raw_data/walmart/flyer_deals.csv')\n",
    "walmart['store'] = 'walmart'\n",
    "\n",
    "sobeys = pd.read_csv('raw_data/sobeys/flyer_deals.csv')\n",
    "sobeys['store'] = 'sobeys'\n",
    "\n",
    "foodbasics = pd.read_csv('raw_data/food_basics/flyer_deals.csv')\n",
    "foodbasics['store'] = 'foodbasics'\n",
    "\n",
    "zehrs = pd.read_csv('raw_data/zehrs/flyer_deals.csv')\n",
    "zehrs['store'] = 'zehrs'\n",
    "\n",
    "valu_mart = pd.read_csv('raw_data/valu_mart/flyer_deals.csv')\n",
    "valu_mart['store'] = 'valu_mart'\n",
    "\n",
    "no_frills = pd.read_csv('raw_data/no_frills/flyer_deals.csv')\n",
    "no_frills['store'] = 'no_frills'\n",
    "\n",
    "df = pd.DataFrame()\n",
    "df = df.append(freshco)\n",
    "df = df.append(walmart)\n",
    "df = df.append(sobeys)\n",
    "df = df.append(foodbasics)\n",
    "df = df.append(valu_mart)\n",
    "df = df.append(no_frills)\n",
    "\n",
    "df.head()"
   ]
  },
  {
   "cell_type": "code",
   "execution_count": 10,
   "metadata": {},
   "outputs": [
    {
     "data": {
      "text/plain": [
       "'lb'"
      ]
     },
     "execution_count": 10,
     "metadata": {},
     "output_type": "execute_result"
    }
   ],
   "source": [
    "re.findall('(?:[/lbkgml]+)','2.99 lb')[-1]"
   ]
  },
  {
   "cell_type": "code",
   "execution_count": 12,
   "metadata": {},
   "outputs": [
    {
     "data": {
      "text/plain": [
       "False"
      ]
     },
     "execution_count": 12,
     "metadata": {},
     "output_type": "execute_result"
    }
   ],
   "source": [
    "'/$' in '$2.99 /lb'"
   ]
  },
  {
   "cell_type": "code",
   "execution_count": 17,
   "metadata": {},
   "outputs": [],
   "source": [
    "# flipp cleaning \n",
    "\n",
    "prices = []\n",
    "drop_items = []\n",
    "per_unit_prices = []\n",
    "unit_types = []\n",
    "for index, row in df.iterrows():\n",
    "    s = row.price\n",
    "    store = row.store\n",
    "    \n",
    "    price = ''\n",
    "    unit = ''\n",
    "    \n",
    "    # remove items that aren't groceries or for general pop \n",
    "    if '*' in s: drop = 1 # electronics \n",
    "    elif 'Scene+' in s: drop = 1 # offer not avail to everyone\n",
    "    elif 'when you' in s: drop = 1 # offer not avail to everyone\n",
    "    else: drop = 0\n",
    "        \n",
    "    # multiple units for deal  \n",
    "    if '/$' in s: \n",
    "        num = int(s.split('/')[0])\n",
    "        price_txt = re.findall('(?:[\\£\\$\\€]{1}[,\\d]+.?\\d*)',s)[-1]\n",
    "        price = float(price_txt.replace('$', ''))\n",
    "        price = price/num\n",
    "        price = round(price,2)\n",
    "    \n",
    "    try:\n",
    "        price_txt = re.findall('(?:[\\£\\$\\€]{1}[,\\d]+.?\\d*)',s)[-1] # take last price if multiple prices listed since it is the single unit price \n",
    "        price = price_txt.replace('$', '')\n",
    "    except: \n",
    "        price = None\n",
    "        drop = 1\n",
    "    \n",
    "    \n",
    "    # see if there are units \n",
    "    \n",
    "    # in price column \n",
    "    try: \n",
    "        unit = re.findall('(?:[/lbkgml]+)',s)[-1] # this may error out in which case no units \n",
    "        \n",
    "        if unit == '/': unit = None\n",
    "\n",
    "        if unit is not None:  # not nan\n",
    "            pup,unit_type =  find_per_unit_price(price, unit)\n",
    "        else: \n",
    "            pup = price\n",
    "            unit_type = None\n",
    "    except: \n",
    "        pup = price\n",
    "        unit_type = None\n",
    "    \n",
    "    # in product description \n",
    "    if unit_type == None: # use above price per_unit parsing  as default / standard \n",
    "        try: \n",
    "            if store == 'zehrs' or store == 'no_frills' or store == 'valu_mart' and unit :\n",
    "                desc = row.product_name\n",
    "                if ',' in desc: unit = decs.split(',')[-1]\n",
    "                else: unit = None\n",
    "                unit = re.findall('(([0-9]+) g|([0-9]+) kg|([0-9]+)\\'s)|[0-9]+ pk',unit)[-1][0]\n",
    "\n",
    "            elif store == 'freshco':\n",
    "                desc = row.product_name\n",
    "                unit = re.findall('(([0-9]+) g|([0-9]+) kg|([0-9]+)\\'s)|[0-9]+ pk',desc)[-1][0]\n",
    "\n",
    "            else:\n",
    "                unit = None\n",
    "                \n",
    "            if unit is not None:  # not nan\n",
    "                pup,unit_type =  find_per_unit_price(price, unit)\n",
    "            else: \n",
    "                pup = price\n",
    "                unit_type = None\n",
    "        except: \n",
    "            pup = price\n",
    "            unit_type = None\n",
    "    \n",
    "    prices.append(price)\n",
    "    per_unit_prices.append(pup)\n",
    "    unit_types.append(unit_type)    \n",
    "    drop_items.append(drop)\n",
    "    \n",
    "        \n",
    "df['price2'] = prices\n",
    "df['per_unit_price2'] = per_unit_prices\n",
    "df['unit_type'] = unit_types\n",
    "\n",
    "df['drop_col'] = drop_items \n",
    "df = df[df['drop_col'] == 0]\n",
    "df = df.drop(columns=['drop_col'])    \n"
   ]
  },
  {
   "cell_type": "code",
   "execution_count": null,
   "metadata": {},
   "outputs": [],
   "source": []
  },
  {
   "cell_type": "code",
   "execution_count": 48,
   "metadata": {},
   "outputs": [],
   "source": [
    "def find_per_unit_price(price, unit):\n",
    "    unit_type = ''\n",
    "    if 'kg' in unit: \n",
    "        gram = unit.split('kg')[0]\n",
    "        if gram == '/': gram = 1\n",
    "        pup = float(price) / (float(gram)*1000) # 1000 g in kg\n",
    "        unit_type = 'g'\n",
    "    elif 'g' in unit:\n",
    "        gram = unit.split('g')[0]\n",
    "        if gram == '/': gram = 1\n",
    "        pup = float(price) / float(gram)\n",
    "        unit_type = 'g'\n",
    "    elif 'lb' in unit:\n",
    "        gram = unit.split('lb')[0]\n",
    "        if gram == '/' or gram == '': gram = 1\n",
    "#         if gram == '': gram = price.split('lb')[0]\n",
    "        pup = float(price) / (float(gram)*453.592)\n",
    "        unit_type = 'g'\n",
    "    elif 'ml' in unit:\n",
    "        ml = unit.split('ml')[0]\n",
    "        if ml == '/': ml = 1\n",
    "        pup = float(price) / float(ml)\n",
    "        unit_type = 'ml'\n",
    "    elif 'l' in unit:\n",
    "        ml = unit.split('l')[0]\n",
    "        if unit == '/': ml = 1\n",
    "        pup = float(price) / (float(ml)*1000)\n",
    "        unit_type = 'ml'\n",
    "    elif \"'s'\" in unit:\n",
    "        num = unit.split(\"'s'\")[0]\n",
    "        pup = float(price) / (float(num))\n",
    "        unit_type = 'number_of_units'\n",
    "    elif 'pk' in unit:\n",
    "        num = unit.split(\"pk\")[0]\n",
    "        pup = float(price) / (float(num))\n",
    "        unit_type = 'number_of_units'\n",
    "    elif 'pack' in unit:\n",
    "        num = unit.split(\"pack\")[0]\n",
    "        pup = float(price) / (float(num))\n",
    "        unit_type = 'number_of_units'\n",
    "    else: \n",
    "        pup = price\n",
    "        unit_type = None\n",
    "            \n",
    "    return pup, unit_type"
   ]
  },
  {
   "cell_type": "code",
   "execution_count": 46,
   "metadata": {},
   "outputs": [
    {
     "data": {
      "text/plain": [
       "'299'"
      ]
     },
     "execution_count": 46,
     "metadata": {},
     "output_type": "execute_result"
    }
   ],
   "source": [
    "'299'.split(' ')[0]"
   ]
  },
  {
   "cell_type": "code",
   "execution_count": 49,
   "metadata": {},
   "outputs": [
    {
     "name": "stdout",
     "output_type": "stream",
     "text": [
      "2.99\n"
     ]
    },
    {
     "data": {
      "text/plain": [
       "0.006591827016349495"
      ]
     },
     "execution_count": 49,
     "metadata": {},
     "output_type": "execute_result"
    }
   ],
   "source": [
    "s = '$2.99 lb'\n",
    "store = row.store\n",
    "\n",
    "price = ''\n",
    "unit = ''\n",
    "\n",
    "# remove items that aren't groceries or for general pop \n",
    "if '*' in s: drop = 1 # electronics \n",
    "elif 'Scene+' in s: drop = 1 # offer not avail to everyone\n",
    "elif 'when you' in s: drop = 1 # offer not avail to everyone\n",
    "else: drop = 0\n",
    "\n",
    "# multiple units for deal  \n",
    "if '/$' in s: \n",
    "    num = int(s.split('/')[0])\n",
    "    price_txt = re.findall('(?:[\\£\\$\\€]{1}[,\\d]+.?\\d*)',s)[-1]\n",
    "    price = float(price_txt.replace('$', ''))\n",
    "    price = price/num\n",
    "    price = round(price,2)\n",
    "\n",
    "try:\n",
    "    price_txt = re.findall('(?:[\\£\\$\\€]{1}[,\\d]+.?\\d*)',s)[-1] # take last price if multiple prices listed since it is the single unit price \n",
    "    price = price_txt.replace('$', '')\n",
    "except: \n",
    "    price = None\n",
    "    drop = 1\n",
    "\n",
    "print(price)\n",
    "# see if there are units \n",
    "\n",
    "# in price column \n",
    "# try: \n",
    "unit = re.findall('(?:[/lbkgml]+)',s)[-1] # this may error out in which case no units \n",
    "\n",
    "if unit == '/': unit = None\n",
    "\n",
    "if unit is not None:  # not nan\n",
    "    pup,unit_type =  find_per_unit_price(price, unit)\n",
    "else: \n",
    "    pup = price\n",
    "    unit_type = None\n",
    "# except: \n",
    "#     pup = price\n",
    "#     unit_type = None\n",
    "\n",
    "        \n",
    "pup"
   ]
  },
  {
   "cell_type": "code",
   "execution_count": 29,
   "metadata": {},
   "outputs": [
    {
     "name": "stdout",
     "output_type": "stream",
     "text": [
      "lb\n"
     ]
    },
    {
     "ename": "ValueError",
     "evalue": "could not convert string to float: '2.99 lb'",
     "output_type": "error",
     "traceback": [
      "\u001b[0;31m---------------------------------------------------------------------------\u001b[0m",
      "\u001b[0;31mValueError\u001b[0m                                Traceback (most recent call last)",
      "Input \u001b[0;32mIn [29]\u001b[0m, in \u001b[0;36m<cell line: 14>\u001b[0;34m()\u001b[0m\n\u001b[1;32m     12\u001b[0m \u001b[38;5;28;01mif\u001b[39;00m unit \u001b[38;5;241m==\u001b[39m \u001b[38;5;124m'\u001b[39m\u001b[38;5;124m/\u001b[39m\u001b[38;5;124m'\u001b[39m: unit \u001b[38;5;241m=\u001b[39m \u001b[38;5;28;01mNone\u001b[39;00m\n\u001b[1;32m     14\u001b[0m \u001b[38;5;28;01mif\u001b[39;00m unit \u001b[38;5;129;01mis\u001b[39;00m \u001b[38;5;129;01mnot\u001b[39;00m \u001b[38;5;28;01mNone\u001b[39;00m:  \u001b[38;5;66;03m# not nan\u001b[39;00m\n\u001b[0;32m---> 16\u001b[0m     pup,unit_type \u001b[38;5;241m=\u001b[39m  \u001b[43mfind_per_unit_price\u001b[49m\u001b[43m(\u001b[49m\u001b[38;5;124;43m'\u001b[39;49m\u001b[38;5;124;43m2.99 lb\u001b[39;49m\u001b[38;5;124;43m'\u001b[39;49m\u001b[43m,\u001b[49m\u001b[43m \u001b[49m\u001b[43munit\u001b[49m\u001b[43m)\u001b[49m\n\u001b[1;32m     17\u001b[0m \u001b[38;5;28;01melse\u001b[39;00m: \n\u001b[1;32m     18\u001b[0m     pup \u001b[38;5;241m=\u001b[39m price\n",
      "Input \u001b[0;32mIn [26]\u001b[0m, in \u001b[0;36mfind_per_unit_price\u001b[0;34m(price, unit)\u001b[0m\n\u001b[1;32m     14\u001b[0m     gram \u001b[38;5;241m=\u001b[39m unit\u001b[38;5;241m.\u001b[39msplit(\u001b[38;5;124m'\u001b[39m\u001b[38;5;124mlb\u001b[39m\u001b[38;5;124m'\u001b[39m)[\u001b[38;5;241m0\u001b[39m]\n\u001b[1;32m     15\u001b[0m     \u001b[38;5;28;01mif\u001b[39;00m gram \u001b[38;5;241m==\u001b[39m \u001b[38;5;124m'\u001b[39m\u001b[38;5;124m/\u001b[39m\u001b[38;5;124m'\u001b[39m: gram \u001b[38;5;241m=\u001b[39m \u001b[38;5;241m1\u001b[39m\n\u001b[0;32m---> 16\u001b[0m     pup \u001b[38;5;241m=\u001b[39m \u001b[38;5;28;43mfloat\u001b[39;49m\u001b[43m(\u001b[49m\u001b[43mprice\u001b[49m\u001b[43m)\u001b[49m \u001b[38;5;241m/\u001b[39m (\u001b[38;5;28mfloat\u001b[39m(gram)\u001b[38;5;241m*\u001b[39m\u001b[38;5;241m453.592\u001b[39m)\n\u001b[1;32m     17\u001b[0m     unit_type \u001b[38;5;241m=\u001b[39m \u001b[38;5;124m'\u001b[39m\u001b[38;5;124mg\u001b[39m\u001b[38;5;124m'\u001b[39m\n\u001b[1;32m     18\u001b[0m \u001b[38;5;28;01melif\u001b[39;00m \u001b[38;5;124m'\u001b[39m\u001b[38;5;124mml\u001b[39m\u001b[38;5;124m'\u001b[39m \u001b[38;5;129;01min\u001b[39;00m unit:\n",
      "\u001b[0;31mValueError\u001b[0m: could not convert string to float: '2.99 lb'"
     ]
    }
   ],
   "source": [
    "# if store == 'zehrs' or store == 'no_frills' or store == 'valu_mart' and unit :\n",
    "#     desc = '2.99 lb'\n",
    "#     if ',' in desc: unit = decs.split(',')[-1]\n",
    "#     else: unit = None\n",
    "#     unit = re.findall('(([0-9]+) g|([0-9]+) kg|([0-9]+)\\'s)|[0-9]+ pk',unit)[-1][0]\n",
    "    \n",
    "# unit\n",
    "\n",
    "unit = re.findall('(?:[/lbkgml]+)','2.99 lb')[-1] # this may error out in which case no units \n",
    "\n",
    "print(unit)\n",
    "if unit == '/': unit = None\n",
    "\n",
    "if unit is not None:  # not nan\n",
    "    \n",
    "    pup,unit_type =  find_per_unit_price('2.99 lb', unit)\n",
    "else: \n",
    "    pup = price\n",
    "    unit_type = None\n",
    "  \n",
    "    \n",
    "# gram = '2.99 lb'.split('lb')[0]\n",
    "# float(gram)\n"
   ]
  },
  {
   "cell_type": "code",
   "execution_count": 346,
   "metadata": {},
   "outputs": [
    {
     "data": {
      "text/plain": [
       "'350 g'"
      ]
     },
     "execution_count": 346,
     "metadata": {},
     "output_type": "execute_result"
    }
   ],
   "source": [
    "if store == 'zehrs' or store == 'no_frills' or store == 'valu_mart' and unit :\n",
    "    desc = 'PORK BACK RIBS, 2'\n",
    "    if ',' in desc: unit = desc.split(',')[-1]\n",
    "    else: unit = None\n",
    "    unit = re.findall('(([0-9]+) g|([0-9]+) kg|([0-9]+) lb|([0-9]+)\\'s)|[0-9]+ pk',unit)[-1][0]\n",
    "        \n",
    "unit"
   ]
  },
  {
   "cell_type": "code",
   "execution_count": 311,
   "metadata": {},
   "outputs": [],
   "source": [
    "# zehrs - no frills - valu mart, split on the column (last item in list ) find unit or 's\n",
    "\n",
    "# fresh co, find pattern like ### g or ###/kg , ## pk\n",
    "\n",
    "# sobeys, has in price value so no need for parsing \n"
   ]
  },
  {
   "cell_type": "code",
   "execution_count": null,
   "metadata": {},
   "outputs": [],
   "source": []
  },
  {
   "cell_type": "markdown",
   "metadata": {},
   "source": [
    "## Search"
   ]
  },
  {
   "cell_type": "code",
   "execution_count": 26,
   "metadata": {},
   "outputs": [
    {
     "name": "stdout",
     "output_type": "stream",
     "text": [
      "{'Organic 2% Milk': 100.0, 'Trutaste Lactose Free 2% Milk': 100.0, 'Chocolate Ultrafiltered Partly Skimmed Milk Lactose Free 2% M.F.': 100.0, 'Chocolate Lactose Free 2% Partly Skimmed Ultrafiltered Milk': 100.0, '2% Lactose Free Chocolate Enriched Milk': 100.0, 'TruTaste 2% Milk': 100.0, 'Organic Partly Skimmed 2% Milk': 100.0, '2% Milk': 100.0, 'Goat Milk 2%MF': 100.0, 'Ultrafiltered Partly Skimmed Milk Lactose Free 2% M.F': 100.0, 'TruTaste Lactose Free 2% Milk': 100.0, 'True Taste, 2% Milk': 100.0, '2% M.F. Partly Skimmed Milk': 100.0}\n"
     ]
    }
   ],
   "source": [
    "search_term= '2% milk'\n",
    "\n",
    "max_sims = [0,0,0]\n",
    "item_name = ['', '', '']\n",
    "\n",
    "similarities = {}\n",
    "prices = {}\n",
    "\n",
    "for index, row in df.iterrows():\n",
    "    product_text = row['product']\n",
    "    price = row.price\n",
    "    total_ratio = 0\n",
    "    similarity = 0\n",
    "    for term in search_term.split():\n",
    "        sim = fuzz.partial_ratio(product_text.lower(), term.lower())\n",
    "        total_ratio += sim\n",
    "    \n",
    "    similarity = total_ratio / len(search_term.split())\n",
    "       \n",
    "    if similarity > 80: \n",
    "        similarities[product_text] = similarity\n",
    "        prices[product_text] = price\n",
    "\n",
    "        \n",
    "print(similarities)"
   ]
  },
  {
   "cell_type": "code",
   "execution_count": null,
   "metadata": {},
   "outputs": [],
   "source": []
  },
  {
   "cell_type": "code",
   "execution_count": 33,
   "metadata": {},
   "outputs": [
    {
     "data": {
      "text/plain": [
       "16"
      ]
     },
     "execution_count": 33,
     "metadata": {},
     "output_type": "execute_result"
    }
   ],
   "source": [
    "len(options)"
   ]
  },
  {
   "cell_type": "markdown",
   "metadata": {},
   "source": [
    "^ I think thats a good solution "
   ]
  },
  {
   "cell_type": "markdown",
   "metadata": {},
   "source": [
    "## Scoping some things out: \n",
    "\n",
    "Say someone searches 2% milk - we then have to retrieve it from the data \n",
    "\n",
    "A few things I think we have to do:\n",
    "\n",
    "1. Categorize the search term to match our data categories (eg: bakery, dairy_and_eggs, meat, etc) \n",
    "2. Search that dataset as above to find top ranking products for each store and flyer data set \n",
    "\n",
    "I think the best way to achieve 1. is with a classifier \n",
    "\n",
    "pretty much we would need to extract keywords from all our products (or split product names into seprate strings and each string would then be matched to a category) \n",
    "\n",
    "Train a classifier on that data ^ \n",
    "\n",
    "Input a search term and then output a category pred and then search that dataset (would need the prediction to be pretty high to be confident) \n",
    "\n",
    "Another idea - put all data into one dataset/csv and then we can just loop through every product - honestly given the dataset size and how fast we can similarity match, I think that is doable from a runtime perspective even though it seems like a lazy idea (it'd be a good start for a MVP) \n",
    "\n",
    "- we can start with this and if we find its too slow then we can go from there on a more complex solution, this is a good jumping off point \n",
    "\n",
    "I still need to clean the product names (hopefully just by cleaning up the scrapers) "
   ]
  },
  {
   "cell_type": "markdown",
   "metadata": {},
   "source": [
    "Can start with fuzzy wuzzy but look into a python package search engine for comparison in performance "
   ]
  },
  {
   "cell_type": "code",
   "execution_count": null,
   "metadata": {},
   "outputs": [],
   "source": []
  }
 ],
 "metadata": {
  "interpreter": {
   "hash": "31f2aee4e71d21fbe5cf8b01ff0e069b9275f58929596ceb00d14d90e3e16cd6"
  },
  "kernelspec": {
   "display_name": "Python 3 (ipykernel)",
   "language": "python",
   "name": "python3"
  },
  "language_info": {
   "codemirror_mode": {
    "name": "ipython",
    "version": 3
   },
   "file_extension": ".py",
   "mimetype": "text/x-python",
   "name": "python",
   "nbconvert_exporter": "python",
   "pygments_lexer": "ipython3",
   "version": "3.8.3"
  }
 },
 "nbformat": 4,
 "nbformat_minor": 2
}

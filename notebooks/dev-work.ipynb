{
 "cells": [
  {
   "cell_type": "code",
   "execution_count": 7,
   "metadata": {},
   "outputs": [],
   "source": [
    "from selenium import webdriver\n",
    "import time\n",
    "import pandas as pd\n",
    "from bs4 import BeautifulSoup\n",
    "import requests"
   ]
  },
  {
   "cell_type": "markdown",
   "metadata": {},
   "source": [
    "# Selenium part"
   ]
  },
  {
   "cell_type": "code",
   "execution_count": 25,
   "metadata": {},
   "outputs": [
    {
     "name": "stdout",
     "output_type": "stream",
     "text": [
      "closed cookie blocker\n",
      "1 page(s) loaded\n",
      "2 page(s) loaded\n",
      "3 page(s) loaded\n",
      "4 page(s) loaded\n",
      "5 page(s) loaded\n",
      "6 page(s) loaded\n",
      "7 page(s) loaded\n",
      "8 page(s) loaded\n",
      "9 page(s) loaded\n",
      "10 page(s) loaded\n",
      "11 page(s) loaded\n",
      "12 page(s) loaded\n",
      "13 page(s) loaded\n",
      "reached bottom of page\n"
     ]
    }
   ],
   "source": [
    "# set options \n",
    "options = webdriver.ChromeOptions()\n",
    "options.add_argument('--ignore-certificste-errors')\n",
    "options.add_argument('--incognito')\n",
    "\n",
    "# initiate driver\n",
    "driver = webdriver.Chrome('/Users/CaitlanKrasinski/Desktop/chromedriver', options=options)\n",
    "\n",
    "# nav to link \n",
    "produce = 'https://www.zehrs.ca/food/fruits-vegetables/c/28000?navid=flyout-L2-fruits-vegetables'\n",
    "driver.get(produce)\n",
    "\n",
    "# close cookies popup \n",
    "time.sleep(8) # wait for page load \n",
    "\n",
    "# find button and click button \n",
    "cookies_block = driver.find_element_by_xpath(xpath='//*[@id=\"privacy-policy\"]/div/div/button').click()\n",
    "print('closed cookie blocker')\n",
    "\n",
    "# wait for page load \n",
    "time.sleep(5)\n",
    "\n",
    "# click load more results button until at bottom \n",
    "load_more = driver.find_element_by_xpath('//*[@id=\"site-content\"]/div/div/div[6]/div/div[2]/div[4]/div/button')\n",
    "\n",
    "count = 0\n",
    "while True:\n",
    "    try:\n",
    "        # click the button\n",
    "        load_more.click()\n",
    "\n",
    "        # wait for page load \n",
    "        time.sleep(5)\n",
    "\n",
    "        # re-find the button \n",
    "        load_more = driver.find_element_by_xpath('//*[@id=\"site-content\"]/div/div/div[6]/div/div[2]/div[4]/div/button')\n",
    "        \n",
    "        count+=1\n",
    "        print(f'{count} page(s) loaded')\n",
    "        \n",
    "    except:\n",
    "        break\n",
    "\n",
    "# double check we reached bottom \n",
    "time.sleep(5)\n",
    "try: \n",
    "    load_more = driver.find_element_by_xpath('//*[@id=\"site-content\"]/div/div/div[6]/div/div[2]/div[4]/div/button')\n",
    "    print('failed run')\n",
    "except:\n",
    "    print('reached bottom of page')\n",
    "    \n",
    "page_source = driver.page_source"
   ]
  },
  {
   "cell_type": "markdown",
   "metadata": {},
   "source": [
    "# soup part"
   ]
  },
  {
   "cell_type": "code",
   "execution_count": 26,
   "metadata": {},
   "outputs": [],
   "source": [
    "soup = BeautifulSoup(page_source, 'lxml')"
   ]
  },
  {
   "cell_type": "code",
   "execution_count": 19,
   "metadata": {},
   "outputs": [],
   "source": [
    "product_divs = soup.find_all(\"div\", {\"class\": \"product-tracking\"})\n",
    "\n",
    "details = product_divs[0].find_all(\"div\", {\"class\": \"product-tile__details\"})\n",
    "\n",
    "name = details[0].find_all(\"h3\", {\"class\": \"text text--small4 text--left text--default-color product-tile__details__info__name\"})[0].text\n",
    "\n",
    "prod_details = details[0].find_all(\"div\", {\"class\": \"product-tile__details__info__section\"})\n",
    "\n",
    "prod_details2 = prod_details[0].find_all(\"div\", {\"class\": \"product-prices product-prices--product-tile\"})\n",
    "\n",
    "price = prod_details2[0].find_all(\"span\", {\"class\": \"price selling-price-list__item__price selling-price-list__item__price--now-price\"})[0].text\n",
    "\n",
    "per = prod_details2[0].find_all(\"span\", {\"class\": \"price comparison-price-list__item__price\"})[0].text\n"
   ]
  },
  {
   "cell_type": "code",
   "execution_count": 20,
   "metadata": {},
   "outputs": [
    {
     "data": {
      "text/plain": [
       "('NeilsonPartly Skimmed Milk 2% MF4 l', '$5.69ea', '$0.14/ 100ml')"
      ]
     },
     "execution_count": 20,
     "metadata": {},
     "output_type": "execute_result"
    }
   ],
   "source": [
    "name, price, per"
   ]
  },
  {
   "cell_type": "markdown",
   "metadata": {},
   "source": [
    "### loop through all divs "
   ]
  },
  {
   "cell_type": "code",
   "execution_count": 32,
   "metadata": {},
   "outputs": [],
   "source": [
    "product_divs = soup.find_all(\"div\", {\"class\": \"product-tracking\"})\n",
    "\n",
    "df = pd.DataFrame(columns = ['category', 'product_name', 'price', 'per_unit_price'])\n",
    "\n",
    "for div in product_divs:\n",
    "    prod_details = div.find_all(\"div\", {\"class\": \"product-tile__details\"})\n",
    "    \n",
    "    name = prod_details[0].find_all(\"h3\", {\"class\": \"text text--small4 text--left text--default-color product-tile__details__info__name\"})[0].text\n",
    "\n",
    "    prod_details = prod_details[0].find_all(\"div\", {\"class\": \"product-tile__details__info__section\"})\n",
    "    prod_info = prod_details[0].find_all(\"div\", {\"class\": \"product-prices product-prices--product-tile\"})\n",
    "    \n",
    "    price = prod_info[0].find_all(\"span\", {\"class\": \"price selling-price-list__item__price selling-price-list__item__price--now-price\"})[0].text\n",
    "    \n",
    "    # some items don't have a per unit price\n",
    "    try:\n",
    "        per_unit_price = prod_info[0].find_all(\"span\", {\"class\": \"price comparison-price-list__item__price\"})[0].text\n",
    "    except:\n",
    "        per_unit_price = None \n",
    "        \n",
    "    df = df.append({'category': 'produce', \n",
    "                    'product_name': name, \n",
    "                    'price': price,\n",
    "                    'per_unit_price': per_unit_price}\n",
    "                   , ignore_index=True)\n",
    "    "
   ]
  },
  {
   "cell_type": "code",
   "execution_count": 24,
   "metadata": {},
   "outputs": [],
   "source": [
    "df.to_csv('dairy_data.csv', index=False)"
   ]
  }
 ],
 "metadata": {
  "kernelspec": {
   "display_name": "Python 3",
   "language": "python",
   "name": "python3"
  },
  "language_info": {
   "codemirror_mode": {
    "name": "ipython",
    "version": 3
   },
   "file_extension": ".py",
   "mimetype": "text/x-python",
   "name": "python",
   "nbconvert_exporter": "python",
   "pygments_lexer": "ipython3",
   "version": "3.8.5"
  }
 },
 "nbformat": 4,
 "nbformat_minor": 4
}
